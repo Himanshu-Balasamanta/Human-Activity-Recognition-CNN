{
  "nbformat": 4,
  "nbformat_minor": 0,
  "metadata": {
    "anaconda-cloud": {},
    "kernelspec": {
      "display_name": "Python [conda root]",
      "language": "python",
      "name": "conda-root-py"
    },
    "language_info": {
      "codemirror_mode": {
        "name": "ipython",
        "version": 2
      },
      "file_extension": ".py",
      "mimetype": "text/x-python",
      "name": "python",
      "nbconvert_exporter": "python",
      "pygments_lexer": "ipython2",
      "version": "2.7.12"
    },
    "colab": {
      "name": "Activity Detection.ipynb",
      "provenance": [],
      "include_colab_link": true
    }
  },
  "cells": [
    {
      "cell_type": "markdown",
      "metadata": {
        "id": "view-in-github",
        "colab_type": "text"
      },
      "source": [
        "<a href=\"https://colab.research.google.com/github/Himanshu-Balasamanta/Human-Activity-Recognition-CNN/blob/master/Activity_Detection.ipynb\" target=\"_parent\"><img src=\"https://colab.research.google.com/assets/colab-badge.svg\" alt=\"Open In Colab\"/></a>"
      ]
    },
    {
      "cell_type": "code",
      "metadata": {
        "id": "4P5CHC-dC3at",
        "colab_type": "code",
        "colab": {}
      },
      "source": [
        "import pandas as pd\n",
        "import numpy as np\n",
        "import matplotlib.pyplot as plt\n",
        "from scipy import stats\n",
        "import tensorflow as tf\n",
        "\n",
        "%matplotlib inline\n",
        "plt.style.use('ggplot')"
      ],
      "execution_count": 82,
      "outputs": []
    },
    {
      "cell_type": "code",
      "metadata": {
        "id": "nsMkQVkmC3bI",
        "colab_type": "code",
        "colab": {}
      },
      "source": [
        "\n",
        "def plot_axis(ax, x, y, title):\n",
        "    ax.plot(x, y)\n",
        "    ax.set_title(title)\n",
        "    ax.xaxis.set_visible(False)\n",
        "    ax.set_ylim([min(y) - np.std(y), max(y) + np.std(y)])\n",
        "    ax.set_xlim([min(x), max(x)])\n",
        "    ax.grid(True)\n",
        "    \n",
        "def plot_activity(activity,data):\n",
        "    fig, (ax0, ax1, ax2) = plt.subplots(nrows = 3, figsize = (15, 7), sharex = True)\n",
        "    plot_axis(ax0, data['time'], data['x'], 'x-axis')\n",
        "    plot_axis(ax1, data['time'], data['y'], 'y-axis')\n",
        "    plot_axis(ax2, data['time'], data['z'], 'z-axis')\n",
        "    plt.subplots_adjust(hspace=0.2)\n",
        "    fig.suptitle(activity)\n",
        "    plt.subplots_adjust(top=0.90)\n",
        "    plt.show()\n",
        "\n",
        "def segment_signal(data,window_size = 90):\n",
        "    segments = np.empty((0,window_size,3))\n",
        "    labels = np.empty((0))\n",
        "    for (start, end) in windows(data['timestamp'], window_size):\n",
        "        x = data[\"x-axis\"][start:end]\n",
        "        y = data[\"y-axis\"][start:end]\n",
        "        z = data[\"z-axis\"][start:end]\n",
        "        if(len(dataset['timestamp'][start:end]) == window_size):\n",
        "            segments = np.vstack([segments,np.dstack([x,y,z])])\n",
        "            labels = np.append(labels,stats.mode(data[\"activity\"][start:end])[0][0])\n",
        "    return segments, labels\n"
      ],
      "execution_count": 100,
      "outputs": []
    },
    {
      "cell_type": "code",
      "metadata": {
        "id": "2y9KCMBnI4_A",
        "colab_type": "code",
        "colab": {
          "base_uri": "https://localhost:8080/",
          "height": 34
        },
        "outputId": "12881596-dc96-4518-af89-282c0710e6b7"
      },
      "source": [
        "from google.colab import drive\n",
        "drive.mount('/gdrive')"
      ],
      "execution_count": 2,
      "outputs": [
        {
          "output_type": "stream",
          "text": [
            "Drive already mounted at /gdrive; to attempt to forcibly remount, call drive.mount(\"/gdrive\", force_remount=True).\n"
          ],
          "name": "stdout"
        }
      ]
    },
    {
      "cell_type": "code",
      "metadata": {
        "id": "wZXIxHUte-_9",
        "colab_type": "code",
        "colab": {}
      },
      "source": [
        "#pd.read_csv('/gdrive/My Drive/ActivityRecognition/WISDM_ar_v1.1_raw.txt')"
      ],
      "execution_count": null,
      "outputs": []
    },
    {
      "cell_type": "code",
      "metadata": {
        "id": "H3YMtm2wfmr5",
        "colab_type": "code",
        "colab": {
          "base_uri": "https://localhost:8080/",
          "height": 68
        },
        "outputId": "92b2f040-7705-47f2-9a91-c71d17c9b758"
      },
      "source": [
        "file = open('/gdrive/My Drive/ActivityRecognition/WISDM_ar_v1.1_raw.txt')\n",
        "lines = file.readlines()\n",
        "\n",
        "processedList = []\n",
        "\n",
        "for i, line in enumerate(lines):\n",
        "    try:\n",
        "        line = line.split(',')\n",
        "        last = line[5].split(';')[0]\n",
        "        last = last.strip()\n",
        "        if last == '':\n",
        "            break;\n",
        "        temp = [line[0],line[1],line[2],line[3],line[4],last]\n",
        "        processedList.append(temp)\n",
        "    except:\n",
        "        print('Error at line :', i)"
      ],
      "execution_count": 7,
      "outputs": [
        {
          "output_type": "stream",
          "text": [
            "Error at line : 281873\n",
            "Error at line : 281874\n",
            "Error at line : 281875\n"
          ],
          "name": "stdout"
        }
      ]
    },
    {
      "cell_type": "code",
      "metadata": {
        "id": "wo5fKhyrhHOO",
        "colab_type": "code",
        "colab": {}
      },
      "source": [
        "columns = ['user','activity','time','x','y','z']"
      ],
      "execution_count": 9,
      "outputs": []
    },
    {
      "cell_type": "code",
      "metadata": {
        "id": "EuNvg1I0hUI6",
        "colab_type": "code",
        "colab": {
          "base_uri": "https://localhost:8080/",
          "height": 204
        },
        "outputId": "075f4537-9b8f-47aa-ae99-4848b213672f"
      },
      "source": [
        "data = pd.DataFrame(data = processedList, columns = columns)\n",
        "data.head()"
      ],
      "execution_count": 11,
      "outputs": [
        {
          "output_type": "execute_result",
          "data": {
            "text/html": [
              "<div>\n",
              "<style scoped>\n",
              "    .dataframe tbody tr th:only-of-type {\n",
              "        vertical-align: middle;\n",
              "    }\n",
              "\n",
              "    .dataframe tbody tr th {\n",
              "        vertical-align: top;\n",
              "    }\n",
              "\n",
              "    .dataframe thead th {\n",
              "        text-align: right;\n",
              "    }\n",
              "</style>\n",
              "<table border=\"1\" class=\"dataframe\">\n",
              "  <thead>\n",
              "    <tr style=\"text-align: right;\">\n",
              "      <th></th>\n",
              "      <th>user</th>\n",
              "      <th>activity</th>\n",
              "      <th>time</th>\n",
              "      <th>x</th>\n",
              "      <th>y</th>\n",
              "      <th>z</th>\n",
              "    </tr>\n",
              "  </thead>\n",
              "  <tbody>\n",
              "    <tr>\n",
              "      <th>0</th>\n",
              "      <td>33</td>\n",
              "      <td>Jogging</td>\n",
              "      <td>49105962326000</td>\n",
              "      <td>-0.6946377</td>\n",
              "      <td>12.680544</td>\n",
              "      <td>0.50395286</td>\n",
              "    </tr>\n",
              "    <tr>\n",
              "      <th>1</th>\n",
              "      <td>33</td>\n",
              "      <td>Jogging</td>\n",
              "      <td>49106062271000</td>\n",
              "      <td>5.012288</td>\n",
              "      <td>11.264028</td>\n",
              "      <td>0.95342433</td>\n",
              "    </tr>\n",
              "    <tr>\n",
              "      <th>2</th>\n",
              "      <td>33</td>\n",
              "      <td>Jogging</td>\n",
              "      <td>49106112167000</td>\n",
              "      <td>4.903325</td>\n",
              "      <td>10.882658</td>\n",
              "      <td>-0.08172209</td>\n",
              "    </tr>\n",
              "    <tr>\n",
              "      <th>3</th>\n",
              "      <td>33</td>\n",
              "      <td>Jogging</td>\n",
              "      <td>49106222305000</td>\n",
              "      <td>-0.61291564</td>\n",
              "      <td>18.496431</td>\n",
              "      <td>3.0237172</td>\n",
              "    </tr>\n",
              "    <tr>\n",
              "      <th>4</th>\n",
              "      <td>33</td>\n",
              "      <td>Jogging</td>\n",
              "      <td>49106332290000</td>\n",
              "      <td>-1.1849703</td>\n",
              "      <td>12.108489</td>\n",
              "      <td>7.205164</td>\n",
              "    </tr>\n",
              "  </tbody>\n",
              "</table>\n",
              "</div>"
            ],
            "text/plain": [
              "  user activity            time            x          y            z\n",
              "0   33  Jogging  49105962326000   -0.6946377  12.680544   0.50395286\n",
              "1   33  Jogging  49106062271000     5.012288  11.264028   0.95342433\n",
              "2   33  Jogging  49106112167000     4.903325  10.882658  -0.08172209\n",
              "3   33  Jogging  49106222305000  -0.61291564  18.496431    3.0237172\n",
              "4   33  Jogging  49106332290000   -1.1849703  12.108489     7.205164"
            ]
          },
          "metadata": {
            "tags": []
          },
          "execution_count": 11
        }
      ]
    },
    {
      "cell_type": "code",
      "metadata": {
        "id": "mQ9ko4Uphpwe",
        "colab_type": "code",
        "colab": {
          "base_uri": "https://localhost:8080/",
          "height": 34
        },
        "outputId": "6ebafe3d-d2f8-44db-b72e-0d767fd5d85b"
      },
      "source": [
        "data.shape"
      ],
      "execution_count": 12,
      "outputs": [
        {
          "output_type": "execute_result",
          "data": {
            "text/plain": [
              "(343416, 6)"
            ]
          },
          "metadata": {
            "tags": []
          },
          "execution_count": 12
        }
      ]
    },
    {
      "cell_type": "code",
      "metadata": {
        "id": "z9l0DBxKhust",
        "colab_type": "code",
        "colab": {
          "base_uri": "https://localhost:8080/",
          "height": 238
        },
        "outputId": "46fdda16-f843-4a8f-ca7e-553b62af6edb"
      },
      "source": [
        "data.info()"
      ],
      "execution_count": 13,
      "outputs": [
        {
          "output_type": "stream",
          "text": [
            "<class 'pandas.core.frame.DataFrame'>\n",
            "RangeIndex: 343416 entries, 0 to 343415\n",
            "Data columns (total 6 columns):\n",
            " #   Column    Non-Null Count   Dtype \n",
            "---  ------    --------------   ----- \n",
            " 0   user      343416 non-null  object\n",
            " 1   activity  343416 non-null  object\n",
            " 2   time      343416 non-null  object\n",
            " 3   x         343416 non-null  object\n",
            " 4   y         343416 non-null  object\n",
            " 5   z         343416 non-null  object\n",
            "dtypes: object(6)\n",
            "memory usage: 15.7+ MB\n"
          ],
          "name": "stdout"
        }
      ]
    },
    {
      "cell_type": "code",
      "metadata": {
        "id": "aiGscHahh58i",
        "colab_type": "code",
        "colab": {
          "base_uri": "https://localhost:8080/",
          "height": 136
        },
        "outputId": "8898a551-4e42-442e-d805-0a0f057898fe"
      },
      "source": [
        "data.isnull().sum()"
      ],
      "execution_count": 14,
      "outputs": [
        {
          "output_type": "execute_result",
          "data": {
            "text/plain": [
              "user        0\n",
              "activity    0\n",
              "time        0\n",
              "x           0\n",
              "y           0\n",
              "z           0\n",
              "dtype: int64"
            ]
          },
          "metadata": {
            "tags": []
          },
          "execution_count": 14
        }
      ]
    },
    {
      "cell_type": "code",
      "metadata": {
        "id": "ti0xY_JuiDtb",
        "colab_type": "code",
        "colab": {
          "base_uri": "https://localhost:8080/",
          "height": 136
        },
        "outputId": "2ca8ce12-33ea-446d-d8ce-ccba7ff404f7"
      },
      "source": [
        "data['activity'].value_counts()"
      ],
      "execution_count": 15,
      "outputs": [
        {
          "output_type": "execute_result",
          "data": {
            "text/plain": [
              "Walking       137375\n",
              "Jogging       129392\n",
              "Upstairs       35137\n",
              "Downstairs     33358\n",
              "Sitting         4599\n",
              "Standing        3555\n",
              "Name: activity, dtype: int64"
            ]
          },
          "metadata": {
            "tags": []
          },
          "execution_count": 15
        }
      ]
    },
    {
      "cell_type": "markdown",
      "metadata": {
        "id": "68a2jvZPiRBu",
        "colab_type": "text"
      },
      "source": [
        "### Balance Data"
      ]
    },
    {
      "cell_type": "code",
      "metadata": {
        "id": "L7blppioiLA0",
        "colab_type": "code",
        "colab": {}
      },
      "source": [
        "data['x'] = data['x'].astype('float')\n",
        "data['z'] = data['z'].astype('float')\n",
        "data['y'] = data['y'].astype('float')"
      ],
      "execution_count": 18,
      "outputs": []
    },
    {
      "cell_type": "code",
      "metadata": {
        "id": "3Ln1q1D4iKr8",
        "colab_type": "code",
        "colab": {
          "base_uri": "https://localhost:8080/",
          "height": 238
        },
        "outputId": "883f839e-1361-479c-a5e7-06b7e9ea84ff"
      },
      "source": [
        "data.info()"
      ],
      "execution_count": 19,
      "outputs": [
        {
          "output_type": "stream",
          "text": [
            "<class 'pandas.core.frame.DataFrame'>\n",
            "RangeIndex: 343416 entries, 0 to 343415\n",
            "Data columns (total 6 columns):\n",
            " #   Column    Non-Null Count   Dtype  \n",
            "---  ------    --------------   -----  \n",
            " 0   user      343416 non-null  object \n",
            " 1   activity  343416 non-null  object \n",
            " 2   time      343416 non-null  object \n",
            " 3   x         343416 non-null  float64\n",
            " 4   y         343416 non-null  float64\n",
            " 5   z         343416 non-null  float64\n",
            "dtypes: float64(3), object(3)\n",
            "memory usage: 15.7+ MB\n"
          ],
          "name": "stdout"
        }
      ]
    },
    {
      "cell_type": "code",
      "metadata": {
        "id": "hPQ-exPpjUk4",
        "colab_type": "code",
        "colab": {}
      },
      "source": [
        "Fs = 20"
      ],
      "execution_count": 20,
      "outputs": []
    },
    {
      "cell_type": "code",
      "metadata": {
        "id": "b2DQZPnBkaj7",
        "colab_type": "code",
        "colab": {
          "base_uri": "https://localhost:8080/",
          "height": 34
        },
        "outputId": "49631651-958f-414b-d6f6-29e0c10be76d"
      },
      "source": [
        "activities = data['activity'].value_counts().index\n",
        "activities"
      ],
      "execution_count": 21,
      "outputs": [
        {
          "output_type": "execute_result",
          "data": {
            "text/plain": [
              "Index(['Walking', 'Jogging', 'Upstairs', 'Downstairs', 'Sitting', 'Standing'], dtype='object')"
            ]
          },
          "metadata": {
            "tags": []
          },
          "execution_count": 21
        }
      ]
    },
    {
      "cell_type": "code",
      "metadata": {
        "id": "X2p5I65skWiE",
        "colab_type": "code",
        "colab": {}
      },
      "source": [
        "for activity in activities:\n",
        "    data_for_plot = data[(data['activity'] == activity)][:Fs*10]\n",
        "    plot_activity(activity, data_for_plot)"
      ],
      "execution_count": null,
      "outputs": []
    },
    {
      "cell_type": "code",
      "metadata": {
        "id": "d6QiWUG-jaZ9",
        "colab_type": "code",
        "colab": {
          "base_uri": "https://localhost:8080/",
          "height": 204
        },
        "outputId": "a8b34d02-9676-45b5-93cd-f8e341f57d79"
      },
      "source": [
        "df = data.drop(['user','time'],axis = 1).copy()\n",
        "df.head()"
      ],
      "execution_count": 26,
      "outputs": [
        {
          "output_type": "execute_result",
          "data": {
            "text/html": [
              "<div>\n",
              "<style scoped>\n",
              "    .dataframe tbody tr th:only-of-type {\n",
              "        vertical-align: middle;\n",
              "    }\n",
              "\n",
              "    .dataframe tbody tr th {\n",
              "        vertical-align: top;\n",
              "    }\n",
              "\n",
              "    .dataframe thead th {\n",
              "        text-align: right;\n",
              "    }\n",
              "</style>\n",
              "<table border=\"1\" class=\"dataframe\">\n",
              "  <thead>\n",
              "    <tr style=\"text-align: right;\">\n",
              "      <th></th>\n",
              "      <th>activity</th>\n",
              "      <th>x</th>\n",
              "      <th>y</th>\n",
              "      <th>z</th>\n",
              "    </tr>\n",
              "  </thead>\n",
              "  <tbody>\n",
              "    <tr>\n",
              "      <th>0</th>\n",
              "      <td>Jogging</td>\n",
              "      <td>-0.694638</td>\n",
              "      <td>12.680544</td>\n",
              "      <td>0.503953</td>\n",
              "    </tr>\n",
              "    <tr>\n",
              "      <th>1</th>\n",
              "      <td>Jogging</td>\n",
              "      <td>5.012288</td>\n",
              "      <td>11.264028</td>\n",
              "      <td>0.953424</td>\n",
              "    </tr>\n",
              "    <tr>\n",
              "      <th>2</th>\n",
              "      <td>Jogging</td>\n",
              "      <td>4.903325</td>\n",
              "      <td>10.882658</td>\n",
              "      <td>-0.081722</td>\n",
              "    </tr>\n",
              "    <tr>\n",
              "      <th>3</th>\n",
              "      <td>Jogging</td>\n",
              "      <td>-0.612916</td>\n",
              "      <td>18.496431</td>\n",
              "      <td>3.023717</td>\n",
              "    </tr>\n",
              "    <tr>\n",
              "      <th>4</th>\n",
              "      <td>Jogging</td>\n",
              "      <td>-1.184970</td>\n",
              "      <td>12.108489</td>\n",
              "      <td>7.205164</td>\n",
              "    </tr>\n",
              "  </tbody>\n",
              "</table>\n",
              "</div>"
            ],
            "text/plain": [
              "  activity         x          y         z\n",
              "0  Jogging -0.694638  12.680544  0.503953\n",
              "1  Jogging  5.012288  11.264028  0.953424\n",
              "2  Jogging  4.903325  10.882658 -0.081722\n",
              "3  Jogging -0.612916  18.496431  3.023717\n",
              "4  Jogging -1.184970  12.108489  7.205164"
            ]
          },
          "metadata": {
            "tags": []
          },
          "execution_count": 26
        }
      ]
    },
    {
      "cell_type": "code",
      "metadata": {
        "id": "X5HpzBZKnNI8",
        "colab_type": "code",
        "colab": {
          "base_uri": "https://localhost:8080/",
          "height": 136
        },
        "outputId": "60baa5db-9977-42fb-bc25-2da4f8e9ab03"
      },
      "source": [
        "df['activity'].value_counts()"
      ],
      "execution_count": 27,
      "outputs": [
        {
          "output_type": "execute_result",
          "data": {
            "text/plain": [
              "Walking       137375\n",
              "Jogging       129392\n",
              "Upstairs       35137\n",
              "Downstairs     33358\n",
              "Sitting         4599\n",
              "Standing        3555\n",
              "Name: activity, dtype: int64"
            ]
          },
          "metadata": {
            "tags": []
          },
          "execution_count": 27
        }
      ]
    },
    {
      "cell_type": "code",
      "metadata": {
        "id": "eLyg86HunULh",
        "colab_type": "code",
        "colab": {}
      },
      "source": [
        "Walking = df[df['activity'] == 'Walking'].head(3555).copy()\n",
        "Jogging = df[df['activity'] == 'Jogging'].head(3555).copy()\n",
        "Upstairs = df[df['activity'] == 'Upstairs'].head(3555).copy()\n",
        "Downstairs = df[df['activity'] == 'Downstairs'].head(3555).copy()\n",
        "Sitting = df[df['activity'] == 'Sitting'].head(3555).copy()\n",
        "Standing = df[df['activity'] == 'Standing'].head(3555).copy()"
      ],
      "execution_count": 32,
      "outputs": []
    },
    {
      "cell_type": "code",
      "metadata": {
        "id": "dzn4qXPzoQPM",
        "colab_type": "code",
        "colab": {
          "base_uri": "https://localhost:8080/",
          "height": 34
        },
        "outputId": "ddb64532-36ef-42da-c77c-ac97ba040505"
      },
      "source": [
        "balanced_data = pd.DataFrame()\n",
        "balanced_data = balanced_data.append([Walking,Jogging,Sitting,Standing,Upstairs,Downstairs])\n",
        "balanced_data.shape"
      ],
      "execution_count": 35,
      "outputs": [
        {
          "output_type": "execute_result",
          "data": {
            "text/plain": [
              "(21330, 4)"
            ]
          },
          "metadata": {
            "tags": []
          },
          "execution_count": 35
        }
      ]
    },
    {
      "cell_type": "code",
      "metadata": {
        "id": "28k7Wdc8pZk4",
        "colab_type": "code",
        "colab": {
          "base_uri": "https://localhost:8080/",
          "height": 204
        },
        "outputId": "120e1833-4e77-48d3-d122-51e9d2aaf0db"
      },
      "source": [
        "balanced_data['activity'].value_counts()\n",
        "balanced_data.head()"
      ],
      "execution_count": 37,
      "outputs": [
        {
          "output_type": "execute_result",
          "data": {
            "text/html": [
              "<div>\n",
              "<style scoped>\n",
              "    .dataframe tbody tr th:only-of-type {\n",
              "        vertical-align: middle;\n",
              "    }\n",
              "\n",
              "    .dataframe tbody tr th {\n",
              "        vertical-align: top;\n",
              "    }\n",
              "\n",
              "    .dataframe thead th {\n",
              "        text-align: right;\n",
              "    }\n",
              "</style>\n",
              "<table border=\"1\" class=\"dataframe\">\n",
              "  <thead>\n",
              "    <tr style=\"text-align: right;\">\n",
              "      <th></th>\n",
              "      <th>activity</th>\n",
              "      <th>x</th>\n",
              "      <th>y</th>\n",
              "      <th>z</th>\n",
              "    </tr>\n",
              "  </thead>\n",
              "  <tbody>\n",
              "    <tr>\n",
              "      <th>597</th>\n",
              "      <td>Walking</td>\n",
              "      <td>0.844462</td>\n",
              "      <td>8.008764</td>\n",
              "      <td>2.792171</td>\n",
              "    </tr>\n",
              "    <tr>\n",
              "      <th>598</th>\n",
              "      <td>Walking</td>\n",
              "      <td>1.116869</td>\n",
              "      <td>8.621680</td>\n",
              "      <td>3.786457</td>\n",
              "    </tr>\n",
              "    <tr>\n",
              "      <th>599</th>\n",
              "      <td>Walking</td>\n",
              "      <td>-0.503953</td>\n",
              "      <td>16.657684</td>\n",
              "      <td>1.307553</td>\n",
              "    </tr>\n",
              "    <tr>\n",
              "      <th>600</th>\n",
              "      <td>Walking</td>\n",
              "      <td>4.794363</td>\n",
              "      <td>10.760075</td>\n",
              "      <td>-1.184970</td>\n",
              "    </tr>\n",
              "    <tr>\n",
              "      <th>601</th>\n",
              "      <td>Walking</td>\n",
              "      <td>-0.040861</td>\n",
              "      <td>9.234595</td>\n",
              "      <td>-0.694638</td>\n",
              "    </tr>\n",
              "  </tbody>\n",
              "</table>\n",
              "</div>"
            ],
            "text/plain": [
              "    activity         x          y         z\n",
              "597  Walking  0.844462   8.008764  2.792171\n",
              "598  Walking  1.116869   8.621680  3.786457\n",
              "599  Walking -0.503953  16.657684  1.307553\n",
              "600  Walking  4.794363  10.760075 -1.184970\n",
              "601  Walking -0.040861   9.234595 -0.694638"
            ]
          },
          "metadata": {
            "tags": []
          },
          "execution_count": 37
        }
      ]
    },
    {
      "cell_type": "code",
      "metadata": {
        "id": "mO9CM7jbqRNw",
        "colab_type": "code",
        "colab": {}
      },
      "source": [
        "from sklearn.preprocessing import LabelEncoder"
      ],
      "execution_count": 38,
      "outputs": []
    },
    {
      "cell_type": "code",
      "metadata": {
        "id": "qIxNzdcmqroK",
        "colab_type": "code",
        "colab": {
          "base_uri": "https://localhost:8080/",
          "height": 204
        },
        "outputId": "da4820f3-39e7-4af1-cedb-a8a651578e6f"
      },
      "source": [
        "label = LabelEncoder()\n",
        "balanced_data['label'] = label.fit_transform(balanced_data['activity'])\n",
        "balanced_data.head()"
      ],
      "execution_count": 39,
      "outputs": [
        {
          "output_type": "execute_result",
          "data": {
            "text/html": [
              "<div>\n",
              "<style scoped>\n",
              "    .dataframe tbody tr th:only-of-type {\n",
              "        vertical-align: middle;\n",
              "    }\n",
              "\n",
              "    .dataframe tbody tr th {\n",
              "        vertical-align: top;\n",
              "    }\n",
              "\n",
              "    .dataframe thead th {\n",
              "        text-align: right;\n",
              "    }\n",
              "</style>\n",
              "<table border=\"1\" class=\"dataframe\">\n",
              "  <thead>\n",
              "    <tr style=\"text-align: right;\">\n",
              "      <th></th>\n",
              "      <th>activity</th>\n",
              "      <th>x</th>\n",
              "      <th>y</th>\n",
              "      <th>z</th>\n",
              "      <th>label</th>\n",
              "    </tr>\n",
              "  </thead>\n",
              "  <tbody>\n",
              "    <tr>\n",
              "      <th>597</th>\n",
              "      <td>Walking</td>\n",
              "      <td>0.844462</td>\n",
              "      <td>8.008764</td>\n",
              "      <td>2.792171</td>\n",
              "      <td>5</td>\n",
              "    </tr>\n",
              "    <tr>\n",
              "      <th>598</th>\n",
              "      <td>Walking</td>\n",
              "      <td>1.116869</td>\n",
              "      <td>8.621680</td>\n",
              "      <td>3.786457</td>\n",
              "      <td>5</td>\n",
              "    </tr>\n",
              "    <tr>\n",
              "      <th>599</th>\n",
              "      <td>Walking</td>\n",
              "      <td>-0.503953</td>\n",
              "      <td>16.657684</td>\n",
              "      <td>1.307553</td>\n",
              "      <td>5</td>\n",
              "    </tr>\n",
              "    <tr>\n",
              "      <th>600</th>\n",
              "      <td>Walking</td>\n",
              "      <td>4.794363</td>\n",
              "      <td>10.760075</td>\n",
              "      <td>-1.184970</td>\n",
              "      <td>5</td>\n",
              "    </tr>\n",
              "    <tr>\n",
              "      <th>601</th>\n",
              "      <td>Walking</td>\n",
              "      <td>-0.040861</td>\n",
              "      <td>9.234595</td>\n",
              "      <td>-0.694638</td>\n",
              "      <td>5</td>\n",
              "    </tr>\n",
              "  </tbody>\n",
              "</table>\n",
              "</div>"
            ],
            "text/plain": [
              "    activity         x          y         z  label\n",
              "597  Walking  0.844462   8.008764  2.792171      5\n",
              "598  Walking  1.116869   8.621680  3.786457      5\n",
              "599  Walking -0.503953  16.657684  1.307553      5\n",
              "600  Walking  4.794363  10.760075 -1.184970      5\n",
              "601  Walking -0.040861   9.234595 -0.694638      5"
            ]
          },
          "metadata": {
            "tags": []
          },
          "execution_count": 39
        }
      ]
    },
    {
      "cell_type": "code",
      "metadata": {
        "id": "rfTatpWOqQ8Y",
        "colab_type": "code",
        "colab": {
          "base_uri": "https://localhost:8080/",
          "height": 51
        },
        "outputId": "1acfcf7b-7e72-40e5-b5b6-e00fb785c402"
      },
      "source": [
        "label.classes_"
      ],
      "execution_count": 41,
      "outputs": [
        {
          "output_type": "execute_result",
          "data": {
            "text/plain": [
              "array(['Downstairs', 'Jogging', 'Sitting', 'Standing', 'Upstairs',\n",
              "       'Walking'], dtype=object)"
            ]
          },
          "metadata": {
            "tags": []
          },
          "execution_count": 41
        }
      ]
    },
    {
      "cell_type": "markdown",
      "metadata": {
        "id": "Tv55-_ixrx33",
        "colab_type": "text"
      },
      "source": [
        "### **Standardise Data**"
      ]
    },
    {
      "cell_type": "code",
      "metadata": {
        "id": "8pZiORFirPGU",
        "colab_type": "code",
        "colab": {}
      },
      "source": [
        "X = balanced_data[['x','y','z']]\n",
        "y = balanced_data['label']"
      ],
      "execution_count": 43,
      "outputs": []
    },
    {
      "cell_type": "code",
      "metadata": {
        "id": "mePWLbTdrO_s",
        "colab_type": "code",
        "colab": {
          "base_uri": "https://localhost:8080/",
          "height": 419
        },
        "outputId": "17111e89-add3-4d75-cd0d-f13da7b091fc"
      },
      "source": [
        "from sklearn.preprocessing import StandardScaler\n",
        "scaler = StandardScaler()\n",
        "X = scaler.fit_transform(X)\n",
        "\n",
        "scaled_X = pd.DataFrame(data = X, columns = ['x','y','z'])\n",
        "scaled_X['label'] = y.values\n",
        "\n",
        "scaled_X"
      ],
      "execution_count": 54,
      "outputs": [
        {
          "output_type": "execute_result",
          "data": {
            "text/html": [
              "<div>\n",
              "<style scoped>\n",
              "    .dataframe tbody tr th:only-of-type {\n",
              "        vertical-align: middle;\n",
              "    }\n",
              "\n",
              "    .dataframe tbody tr th {\n",
              "        vertical-align: top;\n",
              "    }\n",
              "\n",
              "    .dataframe thead th {\n",
              "        text-align: right;\n",
              "    }\n",
              "</style>\n",
              "<table border=\"1\" class=\"dataframe\">\n",
              "  <thead>\n",
              "    <tr style=\"text-align: right;\">\n",
              "      <th></th>\n",
              "      <th>x</th>\n",
              "      <th>y</th>\n",
              "      <th>z</th>\n",
              "      <th>label</th>\n",
              "    </tr>\n",
              "  </thead>\n",
              "  <tbody>\n",
              "    <tr>\n",
              "      <th>0</th>\n",
              "      <td>0.000503</td>\n",
              "      <td>-0.099190</td>\n",
              "      <td>0.337933</td>\n",
              "      <td>5</td>\n",
              "    </tr>\n",
              "    <tr>\n",
              "      <th>1</th>\n",
              "      <td>0.073590</td>\n",
              "      <td>0.020386</td>\n",
              "      <td>0.633446</td>\n",
              "      <td>5</td>\n",
              "    </tr>\n",
              "    <tr>\n",
              "      <th>2</th>\n",
              "      <td>-0.361275</td>\n",
              "      <td>1.588160</td>\n",
              "      <td>-0.103312</td>\n",
              "      <td>5</td>\n",
              "    </tr>\n",
              "    <tr>\n",
              "      <th>3</th>\n",
              "      <td>1.060258</td>\n",
              "      <td>0.437573</td>\n",
              "      <td>-0.844119</td>\n",
              "      <td>5</td>\n",
              "    </tr>\n",
              "    <tr>\n",
              "      <th>4</th>\n",
              "      <td>-0.237028</td>\n",
              "      <td>0.139962</td>\n",
              "      <td>-0.698386</td>\n",
              "      <td>5</td>\n",
              "    </tr>\n",
              "    <tr>\n",
              "      <th>...</th>\n",
              "      <td>...</td>\n",
              "      <td>...</td>\n",
              "      <td>...</td>\n",
              "      <td>...</td>\n",
              "    </tr>\n",
              "    <tr>\n",
              "      <th>21325</th>\n",
              "      <td>0.482245</td>\n",
              "      <td>-0.354522</td>\n",
              "      <td>0.236730</td>\n",
              "      <td>0</td>\n",
              "    </tr>\n",
              "    <tr>\n",
              "      <th>21326</th>\n",
              "      <td>-0.368263</td>\n",
              "      <td>0.152722</td>\n",
              "      <td>-0.034494</td>\n",
              "      <td>0</td>\n",
              "    </tr>\n",
              "    <tr>\n",
              "      <th>21327</th>\n",
              "      <td>0.063698</td>\n",
              "      <td>0.234661</td>\n",
              "      <td>0.224586</td>\n",
              "      <td>0</td>\n",
              "    </tr>\n",
              "    <tr>\n",
              "      <th>21328</th>\n",
              "      <td>0.624443</td>\n",
              "      <td>0.168329</td>\n",
              "      <td>0.771083</td>\n",
              "      <td>0</td>\n",
              "    </tr>\n",
              "    <tr>\n",
              "      <th>21329</th>\n",
              "      <td>1.008111</td>\n",
              "      <td>-0.284288</td>\n",
              "      <td>0.556532</td>\n",
              "      <td>0</td>\n",
              "    </tr>\n",
              "  </tbody>\n",
              "</table>\n",
              "<p>21330 rows × 4 columns</p>\n",
              "</div>"
            ],
            "text/plain": [
              "              x         y         z  label\n",
              "0      0.000503 -0.099190  0.337933      5\n",
              "1      0.073590  0.020386  0.633446      5\n",
              "2     -0.361275  1.588160 -0.103312      5\n",
              "3      1.060258  0.437573 -0.844119      5\n",
              "4     -0.237028  0.139962 -0.698386      5\n",
              "...         ...       ...       ...    ...\n",
              "21325  0.482245 -0.354522  0.236730      0\n",
              "21326 -0.368263  0.152722 -0.034494      0\n",
              "21327  0.063698  0.234661  0.224586      0\n",
              "21328  0.624443  0.168329  0.771083      0\n",
              "21329  1.008111 -0.284288  0.556532      0\n",
              "\n",
              "[21330 rows x 4 columns]"
            ]
          },
          "metadata": {
            "tags": []
          },
          "execution_count": 54
        }
      ]
    },
    {
      "cell_type": "markdown",
      "metadata": {
        "id": "tmQoXDc-unJe",
        "colab_type": "text"
      },
      "source": [
        "# Frame Preparation"
      ]
    },
    {
      "cell_type": "code",
      "metadata": {
        "id": "YOY6O3VWuPPP",
        "colab_type": "code",
        "colab": {}
      },
      "source": [
        "import scipy.stats as stats"
      ],
      "execution_count": 55,
      "outputs": []
    },
    {
      "cell_type": "code",
      "metadata": {
        "id": "AKSHsBdLuylP",
        "colab_type": "code",
        "colab": {}
      },
      "source": [
        "Fs = 20 # per second frames passing by\n",
        "frame_size = Fs * 4 # sample size is 80\n",
        "hop_size = Fs*2 # advances by 40"
      ],
      "execution_count": 56,
      "outputs": []
    },
    {
      "cell_type": "code",
      "metadata": {
        "id": "K8A0HuEdvGbK",
        "colab_type": "code",
        "colab": {}
      },
      "source": [
        "def get_frames(df,frame_size,hop_size):\n",
        "\n",
        "    N_FEATURES = 3\n",
        "\n",
        "    frames = []\n",
        "    labels = []\n",
        "    for i in range(0, len(df) - frame_size, hop_size):\n",
        "        x = df['x'].values[i: i + frame_size]\n",
        "        y = df['y'].values[i: i + frame_size]\n",
        "        z = df['z'].values[i: i + frame_size]\n",
        "\n",
        "        label = stats.mode(df['label'][i: i + frame_size])[0][0]\n",
        "        frames.append([x,y,z]) # 3 * frame_size array\n",
        "        labels.append(label) # single number\n",
        "    #print(len(labels))\n",
        "    frames = np.asarray(frames).reshape(-1,frame_size,N_FEATURES)\n",
        "    labels = np.asarray(labels)\n",
        "\n",
        "    # returned the 2D array of frames, where \n",
        "    return frames,labels"
      ],
      "execution_count": 71,
      "outputs": []
    },
    {
      "cell_type": "code",
      "metadata": {
        "id": "KmBZx3l7xAAe",
        "colab_type": "code",
        "colab": {
          "base_uri": "https://localhost:8080/",
          "height": 34
        },
        "outputId": "6e25977f-2d9a-4764-fb30-75355d1facfd"
      },
      "source": [
        "X,y = get_frames(scaled_X, frame_size, hop_size)\n",
        "X.shape, y.shape\n"
      ],
      "execution_count": 73,
      "outputs": [
        {
          "output_type": "execute_result",
          "data": {
            "text/plain": [
              "((532, 80, 3), (532,))"
            ]
          },
          "metadata": {
            "tags": []
          },
          "execution_count": 73
        }
      ]
    },
    {
      "cell_type": "code",
      "metadata": {
        "id": "bv2LL-7d09Rt",
        "colab_type": "code",
        "colab": {}
      },
      "source": [
        "from sklearn.model_selection import train_test_split"
      ],
      "execution_count": 75,
      "outputs": []
    },
    {
      "cell_type": "code",
      "metadata": {
        "id": "llLDU9H4z1vM",
        "colab_type": "code",
        "colab": {}
      },
      "source": [
        "X_train,X_test, y_train, y_test = train_test_split(X,y, test_size = 0.2, random_state = 0, stratify = y)"
      ],
      "execution_count": 76,
      "outputs": []
    },
    {
      "cell_type": "code",
      "metadata": {
        "id": "q_Dos-nMz2v9",
        "colab_type": "code",
        "colab": {
          "base_uri": "https://localhost:8080/",
          "height": 34
        },
        "outputId": "e10a7a90-08cc-49c3-89b3-c8df2c48c7f9"
      },
      "source": [
        "X_train.shape, X_test.shape"
      ],
      "execution_count": 77,
      "outputs": [
        {
          "output_type": "execute_result",
          "data": {
            "text/plain": [
              "((425, 80, 3), (107, 80, 3))"
            ]
          },
          "metadata": {
            "tags": []
          },
          "execution_count": 77
        }
      ]
    },
    {
      "cell_type": "code",
      "metadata": {
        "id": "aMO9qMFwz3O2",
        "colab_type": "code",
        "colab": {}
      },
      "source": [
        "X_train = X_train.reshape(425,80,3,1)\n",
        "X_test = X_test.reshape(107,80,3,1)"
      ],
      "execution_count": 78,
      "outputs": []
    },
    {
      "cell_type": "code",
      "metadata": {
        "id": "ujDCLC0Iz29b",
        "colab_type": "code",
        "colab": {
          "base_uri": "https://localhost:8080/",
          "height": 34
        },
        "outputId": "36cea566-8519-4054-cf54-8bf486a0cbb7"
      },
      "source": [
        "X_train[0].shape, X_test[0].shape"
      ],
      "execution_count": 80,
      "outputs": [
        {
          "output_type": "execute_result",
          "data": {
            "text/plain": [
              "((80, 3, 1), (80, 3, 1))"
            ]
          },
          "metadata": {
            "tags": []
          },
          "execution_count": 80
        }
      ]
    },
    {
      "cell_type": "markdown",
      "metadata": {
        "id": "FyseWtGF16ny",
        "colab_type": "text"
      },
      "source": [
        "# **2D CNN Model**"
      ]
    },
    {
      "cell_type": "code",
      "metadata": {
        "id": "bZk0WFiUz2eV",
        "colab_type": "code",
        "colab": {}
      },
      "source": [
        "from tensorflow.keras.layers import Conv2D\n",
        "from tensorflow.keras import Sequential\n",
        "from tensorflow.keras.layers import Dropout, Flatten,Dense,BatchNormalization\n",
        "from tensorflow.keras.optimizers import Adam\n",
        "model = Sequential()\n",
        "model.add(Conv2D(16,(2,2),activation = 'relu', input_shape = X_train[0].shape))\n",
        "model.add(Dropout(0.1))\n",
        "\n",
        "model.add(Conv2D(32,(2,2), activation = 'relu'))#no need to provide shape, as it auto matches\n",
        "model.add(Dropout(0.2))\n",
        "model.add(Flatten())\n",
        "\n",
        "model.add(Dense(64, activation = 'relu'))\n",
        "model.add(Dropout(0.5))\n",
        "\n",
        "model.add(Dense(6,activation='softmax'))"
      ],
      "execution_count": 101,
      "outputs": []
    },
    {
      "cell_type": "code",
      "metadata": {
        "id": "nitsX9BOzu_E",
        "colab_type": "code",
        "colab": {}
      },
      "source": [
        "model.compile(optimizer = Adam(learning_rate=0.001), loss = 'sparse_categorical_crossentropy', metrics = ['accuracy'])\n",
        "\n"
      ],
      "execution_count": 97,
      "outputs": []
    },
    {
      "cell_type": "code",
      "metadata": {
        "id": "d7AP0Dt29NVS",
        "colab_type": "code",
        "colab": {
          "base_uri": "https://localhost:8080/",
          "height": 357
        },
        "outputId": "e3ea709b-87d0-4488-dbc9-3ce30e0cae88"
      },
      "source": [
        "history = model.fit(X_train, y_train, epochs = 10, validation_data=(X_test, y_test), verbose = 1)"
      ],
      "execution_count": 98,
      "outputs": [
        {
          "output_type": "stream",
          "text": [
            "Epoch 1/10\n",
            "14/14 [==============================] - 0s 21ms/step - loss: 1.6236 - accuracy: 0.2612 - val_loss: 1.3377 - val_accuracy: 0.3925\n",
            "Epoch 2/10\n",
            "14/14 [==============================] - 0s 10ms/step - loss: 1.2943 - accuracy: 0.4494 - val_loss: 1.0134 - val_accuracy: 0.7477\n",
            "Epoch 3/10\n",
            "14/14 [==============================] - 0s 10ms/step - loss: 0.9570 - accuracy: 0.6659 - val_loss: 0.6475 - val_accuracy: 0.7850\n",
            "Epoch 4/10\n",
            "14/14 [==============================] - 0s 10ms/step - loss: 0.6982 - accuracy: 0.7835 - val_loss: 0.4428 - val_accuracy: 0.8318\n",
            "Epoch 5/10\n",
            "14/14 [==============================] - 0s 11ms/step - loss: 0.5409 - accuracy: 0.8000 - val_loss: 0.3557 - val_accuracy: 0.8598\n",
            "Epoch 6/10\n",
            "14/14 [==============================] - 0s 10ms/step - loss: 0.4413 - accuracy: 0.8471 - val_loss: 0.3216 - val_accuracy: 0.8598\n",
            "Epoch 7/10\n",
            "14/14 [==============================] - 0s 10ms/step - loss: 0.3318 - accuracy: 0.8729 - val_loss: 0.2989 - val_accuracy: 0.8505\n",
            "Epoch 8/10\n",
            "14/14 [==============================] - 0s 11ms/step - loss: 0.2828 - accuracy: 0.8941 - val_loss: 0.2718 - val_accuracy: 0.8692\n",
            "Epoch 9/10\n",
            "14/14 [==============================] - 0s 10ms/step - loss: 0.2662 - accuracy: 0.9012 - val_loss: 0.2629 - val_accuracy: 0.8505\n",
            "Epoch 10/10\n",
            "14/14 [==============================] - 0s 10ms/step - loss: 0.2314 - accuracy: 0.9224 - val_loss: 0.2638 - val_accuracy: 0.8598\n"
          ],
          "name": "stdout"
        }
      ]
    },
    {
      "cell_type": "code",
      "metadata": {
        "id": "_Fm_CZNc9nvu",
        "colab_type": "code",
        "colab": {}
      },
      "source": [
        ""
      ],
      "execution_count": null,
      "outputs": []
    }
  ]
}